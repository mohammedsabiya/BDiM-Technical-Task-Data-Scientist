{
  "nbformat": 4,
  "nbformat_minor": 0,
  "metadata": {
    "colab": {
      "provenance": [],
      "gpuType": "V28"
    },
    "kernelspec": {
      "name": "python3",
      "display_name": "Python 3"
    },
    "language_info": {
      "name": "python"
    },
    "accelerator": "TPU"
  },
  "cells": [
    {
      "cell_type": "code",
      "source": [
        "# import the necessary libraries\n",
        "import numpy as np\n",
        "import pandas as pd\n",
        "import matplotlib.pyplot as plt\n",
        "import seaborn as sns\n",
        "import os\n",
        "import json\n",
        "import random\n",
        "from statsmodels.tsa.stattools import acf\n",
        "from imblearn.over_sampling import SMOTE\n",
        "from imblearn.combine import SMOTETomek\n",
        "from imblearn.under_sampling import TomekLinks\n",
        "from collections import Counter\n",
        "import tensorflow as tf\n",
        "from scipy.fft import fft\n",
        "from scipy.signal import get_window\n",
        "from tensorflow.keras.optimizers import Adam\n",
        "from sklearn.model_selection import train_test_split\n",
        "from sklearn.preprocessing import StandardScaler, MinMaxScaler\n",
        "from sklearn.metrics import classification_report, confusion_matrix, f1_score, accuracy_score\n",
        "from tensorflow.keras.models import Sequential\n",
        "from sklearn.utils.class_weight import compute_class_weight\n",
        "from tensorflow.keras.layers import Conv1D, MaxPooling1D, LSTM, Dense, Dropout, BatchNormalization, Reshape\n",
        "from tensorflow.keras.regularizers import l2\n",
        "from tensorflow.keras.callbacks import EarlyStopping, ModelCheckpoint\n",
        "from sklearn.model_selection import TimeSeriesSplit\n",
        "\n",
        "import optuna\n",
        "import warnings\n",
        "warnings.filterwarnings('ignore')"
      ],
      "metadata": {
        "id": "WPVN6EZcILwN"
      },
      "execution_count": 21,
      "outputs": []
    },
    {
      "cell_type": "code",
      "source": [
        "# fetch \"healthy data\" and \"anomalies\" datasets and read them\n",
        "healthy_data = pd.read_hdf(\"/content/drive/MyDrive/dataset/healthy_data.h5\")\n",
        "anomalies = pd.read_hdf(\"/content/drive/MyDrive/dataset/anomalies.h5\")"
      ],
      "metadata": {
        "id": "V5mYWHubIRSJ"
      },
      "execution_count": 22,
      "outputs": []
    },
    {
      "cell_type": "code",
      "source": [
        "# create a new column \"label\"\n",
        "# label the \"healthy data\" data as \"0\" for normal and \"anomalies\" data as \"1\" for abnormal\n",
        "healthy_data['label'] = 0\n",
        "anomalies['label'] = 1"
      ],
      "metadata": {
        "id": "bJZ7UNfgIcdx"
      },
      "execution_count": 23,
      "outputs": []
    },
    {
      "cell_type": "code",
      "source": [
        "# combine both \"healthy data\" and \"anomalies\" datasets into one dataframe\n",
        "data = pd.concat([healthy_data, anomalies], axis=0).reset_index(drop=True)\n",
        "\n",
        "\n",
        "# randomly shuffle the rows to have a mixed rows of \"healthy data\" and \"anomalies\" sampl\n",
        "data_shuffled = data.sample(frac=1, random_state=42).reset_index(drop=True)\n",
        "\n",
        "# check the shuffled DataFrame\n",
        "print(data_shuffled.head())\n"
      ],
      "metadata": {
        "colab": {
          "base_uri": "https://localhost:8080/"
        },
        "id": "o90WXP76NpYO",
        "outputId": "334ebbb3-1f97-4e9e-c4b2-1ed2a8559b7d"
      },
      "execution_count": 24,
      "outputs": [
        {
          "output_type": "stream",
          "name": "stdout",
          "text": [
            "          0         1         2         3         4         5         6  \\\n",
            "0 -1.080207 -0.788637 -0.837053 -1.160900 -1.391143 -1.106029 -0.324923   \n",
            "1 -1.276654 -1.533189 -0.864752 -0.091534 -0.128870 -1.003257 -1.796951   \n",
            "2  0.630677  0.605010  0.477897  0.155225 -0.441229 -0.679566 -0.515786   \n",
            "3 -1.050008 -0.357603  0.730805  1.257609  1.360810  1.924814  2.548819   \n",
            "4  0.311588  0.446899 -0.028552 -0.455588 -0.260691  0.120414  0.117932   \n",
            "\n",
            "          7         8         9  ...     61431     61432     61433     61434  \\\n",
            "0  0.431437  0.714400  0.790789  ... -0.798320 -0.714400 -0.383022 -0.671364   \n",
            "1 -1.947499 -1.831878 -1.817425  ... -1.723483 -1.466948 -0.693729 -0.090329   \n",
            "2 -0.424118 -0.183336  0.394784  ... -0.041556 -0.176003 -0.301894 -0.177225   \n",
            "3  2.402418  1.705213  0.708005  ...  0.307202  1.579212  2.134816  2.098816   \n",
            "4  0.009931  0.158897  0.204829  ...  0.115449 -0.064552 -0.266898 -0.137794   \n",
            "\n",
            "      61435     61436     61437     61438     61439  label  \n",
            "0 -1.152293 -0.716552 -0.097907 -0.445424 -1.015653      0  \n",
            "1 -0.287849 -0.952673 -1.270632 -1.262201 -1.309172      1  \n",
            "2  0.033001  0.025667  0.088001  0.206559  0.003667      0  \n",
            "3  2.046015  1.819214  1.017608 -0.048000 -0.946807      0  \n",
            "4  0.090621  0.074483 -0.091862 -0.166346 -0.053380      0  \n",
            "\n",
            "[5 rows x 61441 columns]\n"
          ]
        }
      ]
    },
    {
      "cell_type": "code",
      "source": [
        "# checking the labels count for imbalance\n",
        "# observation: there is a class imbalance\n",
        "data_shuffled.label.value_counts()"
      ],
      "metadata": {
        "colab": {
          "base_uri": "https://localhost:8080/",
          "height": 176
        },
        "id": "wDo_aflDzLid",
        "outputId": "e3575320-e967-4496-b676-16ff687889c2"
      },
      "execution_count": null,
      "outputs": [
        {
          "output_type": "execute_result",
          "data": {
            "text/plain": [
              "label\n",
              "0    1677\n",
              "1     594\n",
              "Name: count, dtype: int64"
            ],
            "text/html": [
              "<div>\n",
              "<style scoped>\n",
              "    .dataframe tbody tr th:only-of-type {\n",
              "        vertical-align: middle;\n",
              "    }\n",
              "\n",
              "    .dataframe tbody tr th {\n",
              "        vertical-align: top;\n",
              "    }\n",
              "\n",
              "    .dataframe thead th {\n",
              "        text-align: right;\n",
              "    }\n",
              "</style>\n",
              "<table border=\"1\" class=\"dataframe\">\n",
              "  <thead>\n",
              "    <tr style=\"text-align: right;\">\n",
              "      <th></th>\n",
              "      <th>count</th>\n",
              "    </tr>\n",
              "    <tr>\n",
              "      <th>label</th>\n",
              "      <th></th>\n",
              "    </tr>\n",
              "  </thead>\n",
              "  <tbody>\n",
              "    <tr>\n",
              "      <th>0</th>\n",
              "      <td>1677</td>\n",
              "    </tr>\n",
              "    <tr>\n",
              "      <th>1</th>\n",
              "      <td>594</td>\n",
              "    </tr>\n",
              "  </tbody>\n",
              "</table>\n",
              "</div><br><label><b>dtype:</b> int64</label>"
            ]
          },
          "metadata": {},
          "execution_count": 13
        }
      ]
    },
    {
      "cell_type": "code",
      "source": [
        "# descriptive analysis\n",
        "data_shuffled.describe()"
      ],
      "metadata": {
        "colab": {
          "base_uri": "https://localhost:8080/",
          "height": 346
        },
        "id": "N39aCSc_rBhM",
        "outputId": "2e49d24e-b669-43a2-a23d-ebdbfef60d0c"
      },
      "execution_count": null,
      "outputs": [
        {
          "output_type": "execute_result",
          "data": {
            "text/plain": [
              "                 0            1            2            3            4  \\\n",
              "count  2271.000000  2271.000000  2271.000000  2271.000000  2271.000000   \n",
              "mean     -0.887309    -0.897999    -0.904744    -0.900442    -0.882313   \n",
              "std       4.562957     4.562100     4.604539     4.631536     4.605160   \n",
              "min     -32.771890   -32.796411   -32.785377   -32.798863   -32.806220   \n",
              "25%      -0.439003    -0.395214    -0.395770    -0.388287    -0.352335   \n",
              "50%      -0.018592    -0.020977    -0.012222     0.000000     0.001220   \n",
              "75%       0.192001     0.205882     0.227916     0.274878     0.242955   \n",
              "max      11.196882    11.198126    11.198126    11.198126    11.198126   \n",
              "\n",
              "                 5            6            7            8            9  ...  \\\n",
              "count  2271.000000  2271.000000  2271.000000  2271.000000  2271.000000  ...   \n",
              "mean     -0.862772    -0.848597    -0.844531    -0.852953    -0.866084  ...   \n",
              "std       4.573192     4.571592     4.584429     4.587782     4.576549  ...   \n",
              "min     -32.808672   -32.806220   -32.790281   -32.776794   -32.778020  ...   \n",
              "25%      -0.319195    -0.354310    -0.358119    -0.373420    -0.385074  ...   \n",
              "50%       0.003907    -0.003435     0.000000     0.000000    -0.006899  ...   \n",
              "75%       0.269833     0.259603     0.266705     0.236817     0.231820  ...   \n",
              "max      11.198126    11.196882    11.196882    11.198126    11.199371  ...   \n",
              "\n",
              "             61431        61432        61433        61434        61435  \\\n",
              "count  2271.000000  2271.000000  2271.000000  2271.000000  2271.000000   \n",
              "mean     -0.915244    -0.913903    -0.933052    -0.966515    -0.974057   \n",
              "std       4.628884     4.619053     4.626471     4.660177     4.686485   \n",
              "min     -32.808672   -32.784150   -32.768211   -32.774342   -32.787829   \n",
              "25%      -0.408734    -0.417183    -0.429237    -0.457936    -0.409750   \n",
              "50%      -0.011191    -0.016550    -0.023073    -0.025987    -0.021857   \n",
              "75%       0.214111     0.200513     0.203283     0.196206     0.198609   \n",
              "max       9.716076     9.716076     9.716076     9.716076    10.300524   \n",
              "\n",
              "             61436        61437        61438        61439        label  \n",
              "count  2271.000000  2271.000000  2271.000000  2271.000000  2271.000000  \n",
              "mean     -0.955008    -0.931182    -0.911361    -0.907988     0.261559  \n",
              "std       4.671811     4.640969     4.634546     4.639935     0.439580  \n",
              "min     -32.793959   -32.786603   -32.781698   -32.779246     0.000000  \n",
              "25%      -0.401726    -0.393590    -0.399003    -0.410617     0.000000  \n",
              "50%      -0.014080    -0.016139    -0.020645    -0.020611     0.000000  \n",
              "75%       0.218006     0.225065     0.213671     0.209868     1.000000  \n",
              "max       9.716076     9.714832     9.714832     9.847754     1.000000  \n",
              "\n",
              "[8 rows x 61441 columns]"
            ],
            "text/html": [
              "\n",
              "  <div id=\"df-2910a6a9-dab9-4fad-85a9-ff28bae8c32a\" class=\"colab-df-container\">\n",
              "    <div>\n",
              "<style scoped>\n",
              "    .dataframe tbody tr th:only-of-type {\n",
              "        vertical-align: middle;\n",
              "    }\n",
              "\n",
              "    .dataframe tbody tr th {\n",
              "        vertical-align: top;\n",
              "    }\n",
              "\n",
              "    .dataframe thead th {\n",
              "        text-align: right;\n",
              "    }\n",
              "</style>\n",
              "<table border=\"1\" class=\"dataframe\">\n",
              "  <thead>\n",
              "    <tr style=\"text-align: right;\">\n",
              "      <th></th>\n",
              "      <th>0</th>\n",
              "      <th>1</th>\n",
              "      <th>2</th>\n",
              "      <th>3</th>\n",
              "      <th>4</th>\n",
              "      <th>5</th>\n",
              "      <th>6</th>\n",
              "      <th>7</th>\n",
              "      <th>8</th>\n",
              "      <th>9</th>\n",
              "      <th>...</th>\n",
              "      <th>61431</th>\n",
              "      <th>61432</th>\n",
              "      <th>61433</th>\n",
              "      <th>61434</th>\n",
              "      <th>61435</th>\n",
              "      <th>61436</th>\n",
              "      <th>61437</th>\n",
              "      <th>61438</th>\n",
              "      <th>61439</th>\n",
              "      <th>label</th>\n",
              "    </tr>\n",
              "  </thead>\n",
              "  <tbody>\n",
              "    <tr>\n",
              "      <th>count</th>\n",
              "      <td>2271.000000</td>\n",
              "      <td>2271.000000</td>\n",
              "      <td>2271.000000</td>\n",
              "      <td>2271.000000</td>\n",
              "      <td>2271.000000</td>\n",
              "      <td>2271.000000</td>\n",
              "      <td>2271.000000</td>\n",
              "      <td>2271.000000</td>\n",
              "      <td>2271.000000</td>\n",
              "      <td>2271.000000</td>\n",
              "      <td>...</td>\n",
              "      <td>2271.000000</td>\n",
              "      <td>2271.000000</td>\n",
              "      <td>2271.000000</td>\n",
              "      <td>2271.000000</td>\n",
              "      <td>2271.000000</td>\n",
              "      <td>2271.000000</td>\n",
              "      <td>2271.000000</td>\n",
              "      <td>2271.000000</td>\n",
              "      <td>2271.000000</td>\n",
              "      <td>2271.000000</td>\n",
              "    </tr>\n",
              "    <tr>\n",
              "      <th>mean</th>\n",
              "      <td>-0.887309</td>\n",
              "      <td>-0.897999</td>\n",
              "      <td>-0.904744</td>\n",
              "      <td>-0.900442</td>\n",
              "      <td>-0.882313</td>\n",
              "      <td>-0.862772</td>\n",
              "      <td>-0.848597</td>\n",
              "      <td>-0.844531</td>\n",
              "      <td>-0.852953</td>\n",
              "      <td>-0.866084</td>\n",
              "      <td>...</td>\n",
              "      <td>-0.915244</td>\n",
              "      <td>-0.913903</td>\n",
              "      <td>-0.933052</td>\n",
              "      <td>-0.966515</td>\n",
              "      <td>-0.974057</td>\n",
              "      <td>-0.955008</td>\n",
              "      <td>-0.931182</td>\n",
              "      <td>-0.911361</td>\n",
              "      <td>-0.907988</td>\n",
              "      <td>0.261559</td>\n",
              "    </tr>\n",
              "    <tr>\n",
              "      <th>std</th>\n",
              "      <td>4.562957</td>\n",
              "      <td>4.562100</td>\n",
              "      <td>4.604539</td>\n",
              "      <td>4.631536</td>\n",
              "      <td>4.605160</td>\n",
              "      <td>4.573192</td>\n",
              "      <td>4.571592</td>\n",
              "      <td>4.584429</td>\n",
              "      <td>4.587782</td>\n",
              "      <td>4.576549</td>\n",
              "      <td>...</td>\n",
              "      <td>4.628884</td>\n",
              "      <td>4.619053</td>\n",
              "      <td>4.626471</td>\n",
              "      <td>4.660177</td>\n",
              "      <td>4.686485</td>\n",
              "      <td>4.671811</td>\n",
              "      <td>4.640969</td>\n",
              "      <td>4.634546</td>\n",
              "      <td>4.639935</td>\n",
              "      <td>0.439580</td>\n",
              "    </tr>\n",
              "    <tr>\n",
              "      <th>min</th>\n",
              "      <td>-32.771890</td>\n",
              "      <td>-32.796411</td>\n",
              "      <td>-32.785377</td>\n",
              "      <td>-32.798863</td>\n",
              "      <td>-32.806220</td>\n",
              "      <td>-32.808672</td>\n",
              "      <td>-32.806220</td>\n",
              "      <td>-32.790281</td>\n",
              "      <td>-32.776794</td>\n",
              "      <td>-32.778020</td>\n",
              "      <td>...</td>\n",
              "      <td>-32.808672</td>\n",
              "      <td>-32.784150</td>\n",
              "      <td>-32.768211</td>\n",
              "      <td>-32.774342</td>\n",
              "      <td>-32.787829</td>\n",
              "      <td>-32.793959</td>\n",
              "      <td>-32.786603</td>\n",
              "      <td>-32.781698</td>\n",
              "      <td>-32.779246</td>\n",
              "      <td>0.000000</td>\n",
              "    </tr>\n",
              "    <tr>\n",
              "      <th>25%</th>\n",
              "      <td>-0.439003</td>\n",
              "      <td>-0.395214</td>\n",
              "      <td>-0.395770</td>\n",
              "      <td>-0.388287</td>\n",
              "      <td>-0.352335</td>\n",
              "      <td>-0.319195</td>\n",
              "      <td>-0.354310</td>\n",
              "      <td>-0.358119</td>\n",
              "      <td>-0.373420</td>\n",
              "      <td>-0.385074</td>\n",
              "      <td>...</td>\n",
              "      <td>-0.408734</td>\n",
              "      <td>-0.417183</td>\n",
              "      <td>-0.429237</td>\n",
              "      <td>-0.457936</td>\n",
              "      <td>-0.409750</td>\n",
              "      <td>-0.401726</td>\n",
              "      <td>-0.393590</td>\n",
              "      <td>-0.399003</td>\n",
              "      <td>-0.410617</td>\n",
              "      <td>0.000000</td>\n",
              "    </tr>\n",
              "    <tr>\n",
              "      <th>50%</th>\n",
              "      <td>-0.018592</td>\n",
              "      <td>-0.020977</td>\n",
              "      <td>-0.012222</td>\n",
              "      <td>0.000000</td>\n",
              "      <td>0.001220</td>\n",
              "      <td>0.003907</td>\n",
              "      <td>-0.003435</td>\n",
              "      <td>0.000000</td>\n",
              "      <td>0.000000</td>\n",
              "      <td>-0.006899</td>\n",
              "      <td>...</td>\n",
              "      <td>-0.011191</td>\n",
              "      <td>-0.016550</td>\n",
              "      <td>-0.023073</td>\n",
              "      <td>-0.025987</td>\n",
              "      <td>-0.021857</td>\n",
              "      <td>-0.014080</td>\n",
              "      <td>-0.016139</td>\n",
              "      <td>-0.020645</td>\n",
              "      <td>-0.020611</td>\n",
              "      <td>0.000000</td>\n",
              "    </tr>\n",
              "    <tr>\n",
              "      <th>75%</th>\n",
              "      <td>0.192001</td>\n",
              "      <td>0.205882</td>\n",
              "      <td>0.227916</td>\n",
              "      <td>0.274878</td>\n",
              "      <td>0.242955</td>\n",
              "      <td>0.269833</td>\n",
              "      <td>0.259603</td>\n",
              "      <td>0.266705</td>\n",
              "      <td>0.236817</td>\n",
              "      <td>0.231820</td>\n",
              "      <td>...</td>\n",
              "      <td>0.214111</td>\n",
              "      <td>0.200513</td>\n",
              "      <td>0.203283</td>\n",
              "      <td>0.196206</td>\n",
              "      <td>0.198609</td>\n",
              "      <td>0.218006</td>\n",
              "      <td>0.225065</td>\n",
              "      <td>0.213671</td>\n",
              "      <td>0.209868</td>\n",
              "      <td>1.000000</td>\n",
              "    </tr>\n",
              "    <tr>\n",
              "      <th>max</th>\n",
              "      <td>11.196882</td>\n",
              "      <td>11.198126</td>\n",
              "      <td>11.198126</td>\n",
              "      <td>11.198126</td>\n",
              "      <td>11.198126</td>\n",
              "      <td>11.198126</td>\n",
              "      <td>11.196882</td>\n",
              "      <td>11.196882</td>\n",
              "      <td>11.198126</td>\n",
              "      <td>11.199371</td>\n",
              "      <td>...</td>\n",
              "      <td>9.716076</td>\n",
              "      <td>9.716076</td>\n",
              "      <td>9.716076</td>\n",
              "      <td>9.716076</td>\n",
              "      <td>10.300524</td>\n",
              "      <td>9.716076</td>\n",
              "      <td>9.714832</td>\n",
              "      <td>9.714832</td>\n",
              "      <td>9.847754</td>\n",
              "      <td>1.000000</td>\n",
              "    </tr>\n",
              "  </tbody>\n",
              "</table>\n",
              "<p>8 rows × 61441 columns</p>\n",
              "</div>\n",
              "    <div class=\"colab-df-buttons\">\n",
              "\n",
              "  <div class=\"colab-df-container\">\n",
              "    <button class=\"colab-df-convert\" onclick=\"convertToInteractive('df-2910a6a9-dab9-4fad-85a9-ff28bae8c32a')\"\n",
              "            title=\"Convert this dataframe to an interactive table.\"\n",
              "            style=\"display:none;\">\n",
              "\n",
              "  <svg xmlns=\"http://www.w3.org/2000/svg\" height=\"24px\" viewBox=\"0 -960 960 960\">\n",
              "    <path d=\"M120-120v-720h720v720H120Zm60-500h600v-160H180v160Zm220 220h160v-160H400v160Zm0 220h160v-160H400v160ZM180-400h160v-160H180v160Zm440 0h160v-160H620v160ZM180-180h160v-160H180v160Zm440 0h160v-160H620v160Z\"/>\n",
              "  </svg>\n",
              "    </button>\n",
              "\n",
              "  <style>\n",
              "    .colab-df-container {\n",
              "      display:flex;\n",
              "      gap: 12px;\n",
              "    }\n",
              "\n",
              "    .colab-df-convert {\n",
              "      background-color: #E8F0FE;\n",
              "      border: none;\n",
              "      border-radius: 50%;\n",
              "      cursor: pointer;\n",
              "      display: none;\n",
              "      fill: #1967D2;\n",
              "      height: 32px;\n",
              "      padding: 0 0 0 0;\n",
              "      width: 32px;\n",
              "    }\n",
              "\n",
              "    .colab-df-convert:hover {\n",
              "      background-color: #E2EBFA;\n",
              "      box-shadow: 0px 1px 2px rgba(60, 64, 67, 0.3), 0px 1px 3px 1px rgba(60, 64, 67, 0.15);\n",
              "      fill: #174EA6;\n",
              "    }\n",
              "\n",
              "    .colab-df-buttons div {\n",
              "      margin-bottom: 4px;\n",
              "    }\n",
              "\n",
              "    [theme=dark] .colab-df-convert {\n",
              "      background-color: #3B4455;\n",
              "      fill: #D2E3FC;\n",
              "    }\n",
              "\n",
              "    [theme=dark] .colab-df-convert:hover {\n",
              "      background-color: #434B5C;\n",
              "      box-shadow: 0px 1px 3px 1px rgba(0, 0, 0, 0.15);\n",
              "      filter: drop-shadow(0px 1px 2px rgba(0, 0, 0, 0.3));\n",
              "      fill: #FFFFFF;\n",
              "    }\n",
              "  </style>\n",
              "\n",
              "    <script>\n",
              "      const buttonEl =\n",
              "        document.querySelector('#df-2910a6a9-dab9-4fad-85a9-ff28bae8c32a button.colab-df-convert');\n",
              "      buttonEl.style.display =\n",
              "        google.colab.kernel.accessAllowed ? 'block' : 'none';\n",
              "\n",
              "      async function convertToInteractive(key) {\n",
              "        const element = document.querySelector('#df-2910a6a9-dab9-4fad-85a9-ff28bae8c32a');\n",
              "        const dataTable =\n",
              "          await google.colab.kernel.invokeFunction('convertToInteractive',\n",
              "                                                    [key], {});\n",
              "        if (!dataTable) return;\n",
              "\n",
              "        const docLinkHtml = 'Like what you see? Visit the ' +\n",
              "          '<a target=\"_blank\" href=https://colab.research.google.com/notebooks/data_table.ipynb>data table notebook</a>'\n",
              "          + ' to learn more about interactive tables.';\n",
              "        element.innerHTML = '';\n",
              "        dataTable['output_type'] = 'display_data';\n",
              "        await google.colab.output.renderOutput(dataTable, element);\n",
              "        const docLink = document.createElement('div');\n",
              "        docLink.innerHTML = docLinkHtml;\n",
              "        element.appendChild(docLink);\n",
              "      }\n",
              "    </script>\n",
              "  </div>\n",
              "\n",
              "\n",
              "<div id=\"df-ee72c417-6a31-47cc-94aa-3f7df450456a\">\n",
              "  <button class=\"colab-df-quickchart\" onclick=\"quickchart('df-ee72c417-6a31-47cc-94aa-3f7df450456a')\"\n",
              "            title=\"Suggest charts\"\n",
              "            style=\"display:none;\">\n",
              "\n",
              "<svg xmlns=\"http://www.w3.org/2000/svg\" height=\"24px\"viewBox=\"0 0 24 24\"\n",
              "     width=\"24px\">\n",
              "    <g>\n",
              "        <path d=\"M19 3H5c-1.1 0-2 .9-2 2v14c0 1.1.9 2 2 2h14c1.1 0 2-.9 2-2V5c0-1.1-.9-2-2-2zM9 17H7v-7h2v7zm4 0h-2V7h2v10zm4 0h-2v-4h2v4z\"/>\n",
              "    </g>\n",
              "</svg>\n",
              "  </button>\n",
              "\n",
              "<style>\n",
              "  .colab-df-quickchart {\n",
              "      --bg-color: #E8F0FE;\n",
              "      --fill-color: #1967D2;\n",
              "      --hover-bg-color: #E2EBFA;\n",
              "      --hover-fill-color: #174EA6;\n",
              "      --disabled-fill-color: #AAA;\n",
              "      --disabled-bg-color: #DDD;\n",
              "  }\n",
              "\n",
              "  [theme=dark] .colab-df-quickchart {\n",
              "      --bg-color: #3B4455;\n",
              "      --fill-color: #D2E3FC;\n",
              "      --hover-bg-color: #434B5C;\n",
              "      --hover-fill-color: #FFFFFF;\n",
              "      --disabled-bg-color: #3B4455;\n",
              "      --disabled-fill-color: #666;\n",
              "  }\n",
              "\n",
              "  .colab-df-quickchart {\n",
              "    background-color: var(--bg-color);\n",
              "    border: none;\n",
              "    border-radius: 50%;\n",
              "    cursor: pointer;\n",
              "    display: none;\n",
              "    fill: var(--fill-color);\n",
              "    height: 32px;\n",
              "    padding: 0;\n",
              "    width: 32px;\n",
              "  }\n",
              "\n",
              "  .colab-df-quickchart:hover {\n",
              "    background-color: var(--hover-bg-color);\n",
              "    box-shadow: 0 1px 2px rgba(60, 64, 67, 0.3), 0 1px 3px 1px rgba(60, 64, 67, 0.15);\n",
              "    fill: var(--button-hover-fill-color);\n",
              "  }\n",
              "\n",
              "  .colab-df-quickchart-complete:disabled,\n",
              "  .colab-df-quickchart-complete:disabled:hover {\n",
              "    background-color: var(--disabled-bg-color);\n",
              "    fill: var(--disabled-fill-color);\n",
              "    box-shadow: none;\n",
              "  }\n",
              "\n",
              "  .colab-df-spinner {\n",
              "    border: 2px solid var(--fill-color);\n",
              "    border-color: transparent;\n",
              "    border-bottom-color: var(--fill-color);\n",
              "    animation:\n",
              "      spin 1s steps(1) infinite;\n",
              "  }\n",
              "\n",
              "  @keyframes spin {\n",
              "    0% {\n",
              "      border-color: transparent;\n",
              "      border-bottom-color: var(--fill-color);\n",
              "      border-left-color: var(--fill-color);\n",
              "    }\n",
              "    20% {\n",
              "      border-color: transparent;\n",
              "      border-left-color: var(--fill-color);\n",
              "      border-top-color: var(--fill-color);\n",
              "    }\n",
              "    30% {\n",
              "      border-color: transparent;\n",
              "      border-left-color: var(--fill-color);\n",
              "      border-top-color: var(--fill-color);\n",
              "      border-right-color: var(--fill-color);\n",
              "    }\n",
              "    40% {\n",
              "      border-color: transparent;\n",
              "      border-right-color: var(--fill-color);\n",
              "      border-top-color: var(--fill-color);\n",
              "    }\n",
              "    60% {\n",
              "      border-color: transparent;\n",
              "      border-right-color: var(--fill-color);\n",
              "    }\n",
              "    80% {\n",
              "      border-color: transparent;\n",
              "      border-right-color: var(--fill-color);\n",
              "      border-bottom-color: var(--fill-color);\n",
              "    }\n",
              "    90% {\n",
              "      border-color: transparent;\n",
              "      border-bottom-color: var(--fill-color);\n",
              "    }\n",
              "  }\n",
              "</style>\n",
              "\n",
              "  <script>\n",
              "    async function quickchart(key) {\n",
              "      const quickchartButtonEl =\n",
              "        document.querySelector('#' + key + ' button');\n",
              "      quickchartButtonEl.disabled = true;  // To prevent multiple clicks.\n",
              "      quickchartButtonEl.classList.add('colab-df-spinner');\n",
              "      try {\n",
              "        const charts = await google.colab.kernel.invokeFunction(\n",
              "            'suggestCharts', [key], {});\n",
              "      } catch (error) {\n",
              "        console.error('Error during call to suggestCharts:', error);\n",
              "      }\n",
              "      quickchartButtonEl.classList.remove('colab-df-spinner');\n",
              "      quickchartButtonEl.classList.add('colab-df-quickchart-complete');\n",
              "    }\n",
              "    (() => {\n",
              "      let quickchartButtonEl =\n",
              "        document.querySelector('#df-ee72c417-6a31-47cc-94aa-3f7df450456a button');\n",
              "      quickchartButtonEl.style.display =\n",
              "        google.colab.kernel.accessAllowed ? 'block' : 'none';\n",
              "    })();\n",
              "  </script>\n",
              "</div>\n",
              "\n",
              "    </div>\n",
              "  </div>\n"
            ],
            "application/vnd.google.colaboratory.intrinsic+json": {
              "type": "dataframe"
            }
          },
          "metadata": {},
          "execution_count": 15
        }
      ]
    },
    {
      "cell_type": "code",
      "source": [
        "# check for NaN or Null values\n",
        "data_shuffled.loc[data_shuffled.isnull().any(axis=1), data_shuffled.isnull().any()]"
      ],
      "metadata": {
        "colab": {
          "base_uri": "https://localhost:8080/",
          "height": 53
        },
        "id": "51CLx9vDq60i",
        "outputId": "6f782a2e-32d8-4eb2-fe79-715d974bbe3f"
      },
      "execution_count": null,
      "outputs": [
        {
          "output_type": "execute_result",
          "data": {
            "text/plain": [
              "Empty DataFrame\n",
              "Columns: []\n",
              "Index: []"
            ],
            "text/html": [
              "\n",
              "  <div id=\"df-a8cd1dc3-750f-4f3f-bc58-7564b0560ea3\" class=\"colab-df-container\">\n",
              "    <div>\n",
              "<style scoped>\n",
              "    .dataframe tbody tr th:only-of-type {\n",
              "        vertical-align: middle;\n",
              "    }\n",
              "\n",
              "    .dataframe tbody tr th {\n",
              "        vertical-align: top;\n",
              "    }\n",
              "\n",
              "    .dataframe thead th {\n",
              "        text-align: right;\n",
              "    }\n",
              "</style>\n",
              "<table border=\"1\" class=\"dataframe\">\n",
              "  <thead>\n",
              "    <tr style=\"text-align: right;\">\n",
              "      <th></th>\n",
              "    </tr>\n",
              "  </thead>\n",
              "  <tbody>\n",
              "  </tbody>\n",
              "</table>\n",
              "</div>\n",
              "    <div class=\"colab-df-buttons\">\n",
              "\n",
              "  <div class=\"colab-df-container\">\n",
              "    <button class=\"colab-df-convert\" onclick=\"convertToInteractive('df-a8cd1dc3-750f-4f3f-bc58-7564b0560ea3')\"\n",
              "            title=\"Convert this dataframe to an interactive table.\"\n",
              "            style=\"display:none;\">\n",
              "\n",
              "  <svg xmlns=\"http://www.w3.org/2000/svg\" height=\"24px\" viewBox=\"0 -960 960 960\">\n",
              "    <path d=\"M120-120v-720h720v720H120Zm60-500h600v-160H180v160Zm220 220h160v-160H400v160Zm0 220h160v-160H400v160ZM180-400h160v-160H180v160Zm440 0h160v-160H620v160ZM180-180h160v-160H180v160Zm440 0h160v-160H620v160Z\"/>\n",
              "  </svg>\n",
              "    </button>\n",
              "\n",
              "  <style>\n",
              "    .colab-df-container {\n",
              "      display:flex;\n",
              "      gap: 12px;\n",
              "    }\n",
              "\n",
              "    .colab-df-convert {\n",
              "      background-color: #E8F0FE;\n",
              "      border: none;\n",
              "      border-radius: 50%;\n",
              "      cursor: pointer;\n",
              "      display: none;\n",
              "      fill: #1967D2;\n",
              "      height: 32px;\n",
              "      padding: 0 0 0 0;\n",
              "      width: 32px;\n",
              "    }\n",
              "\n",
              "    .colab-df-convert:hover {\n",
              "      background-color: #E2EBFA;\n",
              "      box-shadow: 0px 1px 2px rgba(60, 64, 67, 0.3), 0px 1px 3px 1px rgba(60, 64, 67, 0.15);\n",
              "      fill: #174EA6;\n",
              "    }\n",
              "\n",
              "    .colab-df-buttons div {\n",
              "      margin-bottom: 4px;\n",
              "    }\n",
              "\n",
              "    [theme=dark] .colab-df-convert {\n",
              "      background-color: #3B4455;\n",
              "      fill: #D2E3FC;\n",
              "    }\n",
              "\n",
              "    [theme=dark] .colab-df-convert:hover {\n",
              "      background-color: #434B5C;\n",
              "      box-shadow: 0px 1px 3px 1px rgba(0, 0, 0, 0.15);\n",
              "      filter: drop-shadow(0px 1px 2px rgba(0, 0, 0, 0.3));\n",
              "      fill: #FFFFFF;\n",
              "    }\n",
              "  </style>\n",
              "\n",
              "    <script>\n",
              "      const buttonEl =\n",
              "        document.querySelector('#df-a8cd1dc3-750f-4f3f-bc58-7564b0560ea3 button.colab-df-convert');\n",
              "      buttonEl.style.display =\n",
              "        google.colab.kernel.accessAllowed ? 'block' : 'none';\n",
              "\n",
              "      async function convertToInteractive(key) {\n",
              "        const element = document.querySelector('#df-a8cd1dc3-750f-4f3f-bc58-7564b0560ea3');\n",
              "        const dataTable =\n",
              "          await google.colab.kernel.invokeFunction('convertToInteractive',\n",
              "                                                    [key], {});\n",
              "        if (!dataTable) return;\n",
              "\n",
              "        const docLinkHtml = 'Like what you see? Visit the ' +\n",
              "          '<a target=\"_blank\" href=https://colab.research.google.com/notebooks/data_table.ipynb>data table notebook</a>'\n",
              "          + ' to learn more about interactive tables.';\n",
              "        element.innerHTML = '';\n",
              "        dataTable['output_type'] = 'display_data';\n",
              "        await google.colab.output.renderOutput(dataTable, element);\n",
              "        const docLink = document.createElement('div');\n",
              "        docLink.innerHTML = docLinkHtml;\n",
              "        element.appendChild(docLink);\n",
              "      }\n",
              "    </script>\n",
              "  </div>\n",
              "\n",
              "\n",
              "    </div>\n",
              "  </div>\n"
            ],
            "application/vnd.google.colaboratory.intrinsic+json": {
              "type": "dataframe",
              "summary": "{\n  \"name\": \"data_shuffled\",\n  \"rows\": 0,\n  \"fields\": []\n}"
            }
          },
          "metadata": {},
          "execution_count": 14
        }
      ]
    },
    {
      "cell_type": "code",
      "source": [
        "labels = data_shuffled[\"label\"].values  # Extract labels\n",
        "features = data_shuffled.drop(columns=[\"label\"])  # Drop the label column from data to have features"
      ],
      "metadata": {
        "id": "uzYQ6ZSpjT8P"
      },
      "execution_count": 25,
      "outputs": []
    },
    {
      "cell_type": "code",
      "source": [
        "# distribution analysis\n",
        "# histogram of features df to visualize the distribution\n",
        "plt.figure(figsize=(12, 6))\n",
        "sns.histplot(features.iloc[:, 200], kde=True)\n",
        "plt.title('Histogram and KDE of Feature')\n",
        "plt.xlabel('Feature Value')\n",
        "plt.ylabel('Frequency')\n",
        "plt.show()\n"
      ],
      "metadata": {
        "colab": {
          "base_uri": "https://localhost:8080/",
          "height": 564
        },
        "id": "vUsAWjTqRFew",
        "outputId": "7668941c-1878-499b-c683-cabb26847f31"
      },
      "execution_count": null,
      "outputs": [
        {
          "output_type": "display_data",
          "data": {
            "text/plain": [
              "<Figure size 1200x600 with 1 Axes>"
            ],
            "image/png": "[encoded data removed]"
          },
          "metadata": {}
        }
      ]
    },
    {
      "cell_type": "code",
      "source": [
        "# autocorrelation analysis\n",
        "\n",
        "# Number of lags to analyze\n",
        "lags = 50\n",
        "\n",
        "# select a few sequences randomly\n",
        "sequences_to_analyze = random.sample(range(features.shape[0]), 5)\n",
        "\n",
        "\n",
        "# plot the autocorrelation for selected sequences\n",
        "plt.figure(figsize=(12, 8))\n",
        "\n",
        "for idx in sequences_to_analyze:\n",
        "    sequence_data = features.iloc[idx]  # get the samples (row) at index `idx`\n",
        "\n",
        "    # compute autocorrelation for the sample\n",
        "    autocorr_values = acf(sequence_data, nlags=lags)\n",
        "\n",
        "    # plot the autocorrelation values\n",
        "    plt.plot(range(lags + 1), autocorr_values, label=f'Sample {idx}')\n",
        "\n",
        "# plot customization\n",
        "plt.title('Autocorrelation of Selected Samples')\n",
        "plt.xlabel('Lag')\n",
        "plt.ylabel('Autocorrelation')\n",
        "plt.legend()\n",
        "plt.grid(True)\n",
        "plt.show()\n"
      ],
      "metadata": {
        "colab": {
          "base_uri": "https://localhost:8080/",
          "height": 718
        },
        "id": "KCBbzatAdC6e",
        "outputId": "fa9a8cbe-7d31-4239-d541-96dc3dfbacb7"
      },
      "execution_count": 27,
      "outputs": [
        {
          "output_type": "display_data",
          "data": {
            "text/plain": [
              "<Figure size 1200x800 with 1 Axes>"
            ],
            "image/png": "[encoded data removed]"
          },
          "metadata": {}
        }
      ]
    },
    {
      "cell_type": "code",
      "source": [
        "# Implement a random seed to have random reproducibility\n",
        "random.seed(42)\n",
        "np.random.seed(42)\n",
        "tf.random.set_seed(42)"
      ],
      "metadata": {
        "id": "8yqA-INSg3GK"
      },
      "execution_count": null,
      "outputs": []
    },
    {
      "cell_type": "code",
      "source": [
        "# split the dataset into train set, valid set, and test set\n",
        "X_train, X_temp, y_train, y_temp = train_test_split(features, labels, test_size=0.4, random_state=42, stratify=labels)\n",
        "X_valid, X_test, y_valid, y_test = train_test_split(X_temp, y_temp, test_size=0.5, random_state=42, stratify=y_temp)"
      ],
      "metadata": {
        "id": "OD1vMkbLhATc"
      },
      "execution_count": null,
      "outputs": []
    },
    {
      "cell_type": "code",
      "source": [
        "print(\"Training data shape:\", X_train.shape)\n",
        "print(\"Validation data shape:\", X_valid.shape)\n",
        "print(\"Testing data shape:\", X_test.shape)"
      ],
      "metadata": {
        "colab": {
          "base_uri": "https://localhost:8080/"
        },
        "id": "1GLjdGtlhBop",
        "outputId": "26e96dc8-3495-41c3-eaa4-8bc14b4c4026"
      },
      "execution_count": null,
      "outputs": [
        {
          "output_type": "stream",
          "name": "stdout",
          "text": [
            "Training data shape: (1362, 61440)\n",
            "Validation data shape: (454, 61440)\n",
            "Testing data shape: (455, 61440)\n"
          ]
        }
      ]
    },
    {
      "cell_type": "code",
      "source": [
        "# oversample the train set to address the class imbalance problem.\n",
        "# only train set is resampled for balancing the class in order to keep the valid set as the same because this allows to test the model on real-world scenerio.\n",
        "smote = SMOTE(random_state=42)\n",
        "X_train_resampled, y_train_resampled = smote.fit_resample(X_train, y_train)\n",
        "\n",
        "# normalize the train set to standardize the feature values in the range [0,1].\n",
        "scaler = StandardScaler()\n",
        "X_train_normalized = scaler.fit_transform(X_train_resampled)"
      ],
      "metadata": {
        "id": "sF7kvhFJhGez"
      },
      "execution_count": null,
      "outputs": []
    },
    {
      "cell_type": "code",
      "source": [
        "# normalize both valid and test set.\n",
        "X_valid_normalized = scaler.transform(X_valid)\n",
        "X_test_normalized = scaler.transform(X_test)"
      ],
      "metadata": {
        "id": "AeIbL-NOhI96"
      },
      "execution_count": null,
      "outputs": []
    },
    {
      "cell_type": "code",
      "source": [
        "# perform Fast Fourier transformation (fft) to the data using sliding windows with windowing functions.\n",
        "def fft_transformation_sliding_window(data, window_size, overlap, sampling_rate):\n",
        "    \"\"\"\n",
        "    Parameters:\n",
        "    - data: 2D numpy array of shape (num_sequences, num_samples)\n",
        "      This is the input data, where each row represents a time-series signal for one sequence.\n",
        "    - window_size: int, the size of the sliding window\n",
        "      Defines the number of samples in each window for FFT computation, impacting frequency resolution.\n",
        "    - overlap: int, the number of overlapping samples\n",
        "      Determines how much overlap exists between consecutive windows. Higher overlap provides finer temporal resolution.\n",
        "    - sampling_rate: int, the sampling rate in Hz\n",
        "      Represents the frequency at which the acceleration data was sampled, which is required to interpret the FFT results.\n",
        "\n",
        "    Returns:\n",
        "    - fft_results: 3D numpy array of shape (num_sequences, num_windows, num_frequency_bins)\n",
        "      FFT magnitudes computed for each window in each sequence, where `num_windows` is the number of windows derived from `window_size` and `overlap`.\n",
        "    - freqs: 1D numpy array of frequency bins\n",
        "      Array of frequency values corresponding to the FFT output, in Hz.\n",
        "\n",
        "    \"\"\"\n",
        "    step = window_size - overlap\n",
        "    num_windows = (data.shape[1] - window_size) // step + 1\n",
        "\n",
        "    # prepare to store FFT results\n",
        "    fft_results = []\n",
        "\n",
        "    for sequence in data:\n",
        "        sequence_fft = []\n",
        "        for start in range(0, len(sequence) - window_size + 1, step):\n",
        "            window = sequence[start:start + window_size]\n",
        "            windowed_signal = window * get_window('hann', window_size)  # perform a Hann window\n",
        "            fft_values = np.fft.rfft(windowed_signal)  # compute FFT\n",
        "            fft_magnitude = np.abs(fft_values)  # get magnitude\n",
        "            sequence_fft.append(fft_magnitude)\n",
        "\n",
        "        fft_results.append(sequence_fft)\n",
        "\n",
        "    # convert the results to a numpy array\n",
        "    fft_results = np.array(fft_results)\n",
        "\n",
        "    # Cclculate frequency bins\n",
        "    num_frequency_bins = fft_results.shape[2]\n",
        "    freqs = np.fft.rfftfreq(window_size, d=1/sampling_rate)\n",
        "\n",
        "    return fft_results, freqs\n",
        "\n",
        "sampling_rate = 1024  # Hz\n",
        "window_size = 1024    # size of the window\n",
        "overlap = 512         # overlap between windows\n",
        "\n",
        "# perform FFT on the normalized datasets with sliding windows\n",
        "X_train_fft, train_freqs = fft_transformation_sliding_window(X_train_normalized, window_size, overlap, sampling_rate)\n",
        "X_valid_fft, valid_freqs = fft_transformation_sliding_window(X_valid_normalized, window_size, overlap, sampling_rate)\n",
        "X_test_fft, test_freqs = fft_transformation_sliding_window(X_test_normalized, window_size, overlap, sampling_rate)\n",
        "\n",
        "print(\"Training FFT data shape:\", X_train_fft.shape)\n",
        "print(\"Validation FFT data shape:\", X_valid_fft.shape)\n",
        "print(\"Testing FFT data shape:\", X_test_fft.shape)"
      ],
      "metadata": {
        "colab": {
          "base_uri": "https://localhost:8080/"
        },
        "id": "WY6S1-ExhK3Y",
        "outputId": "85419a24-162e-4197-8426-c22128e79697"
      },
      "execution_count": null,
      "outputs": [
        {
          "output_type": "stream",
          "name": "stdout",
          "text": [
            "Training FFT data shape: (2012, 119, 513)\n",
            "Validation FFT data shape: (454, 119, 513)\n",
            "Testing FFT data shape: (455, 119, 513)\n"
          ]
        }
      ]
    },
    {
      "cell_type": "code",
      "source": [
        "# calculate class weights to handle class imbalance\n",
        "class_weights = compute_class_weight(class_weight='balanced', classes=np.unique(y_train_resampled), y=y_train_resampled)\n",
        "class_weights_dict = dict(enumerate(class_weights))"
      ],
      "metadata": {
        "id": "zYCrgVGMhkrk"
      },
      "execution_count": null,
      "outputs": []
    },
    {
      "cell_type": "code",
      "source": [
        "# create a model with CNN+LSTM architecture to\n",
        "def create_cnn_lstm_model(conv_filters, kernel_size, num_units_1, dense_units_1, dropout_rate, input_shape, l2_reg, learning_rate):\n",
        "   \"\"\"\n",
        "    Create a CNN-LSTM model for sequence data classification.\n",
        "\n",
        "    Parameters:\n",
        "    - conv_filters (int): Number of filters in the convolutional layers.\n",
        "    - kernel_size (int): Size of the convolutional kernel.\n",
        "    - num_units_1 (int): Number of units in the LSTM layer.\n",
        "    - dense_units_1 (int): Number of units in the dense layer after LSTM.\n",
        "    - dropout_rate (float): Dropout rate to prevent overfitting.\n",
        "    - input_shape (tuple): Shape of the input data (sequence length, number of features).\n",
        "    - l2_reg (float): L2 regularization factor to reduce model complexity.\n",
        "    - learning_rate (float): Learning rate for the Adam optimizer.\n",
        "\n",
        "    Returns:\n",
        "    - model (Sequential): Compiled CNN-LSTM model.\n",
        "    \"\"\"\n",
        "\n",
        "    model = Sequential()\n",
        "\n",
        "    # 1D convolutional layer\n",
        "    model.add(Conv1D(filters=conv_filters, kernel_size=kernel_size, activation='relu', input_shape=input_shape))\n",
        "    model.add(BatchNormalization())\n",
        "    model.add(MaxPooling1D(pool_size=2))\n",
        "    model.add(Dropout(dropout_rate))\n",
        "\n",
        "    # second Conv1D layer for deeper feature extraction\n",
        "    model.add(Conv1D(filters=conv_filters * 2, kernel_size=kernel_size, activation='relu'))\n",
        "    model.add(BatchNormalization())\n",
        "    model.add(MaxPooling1D(pool_size=2))\n",
        "    model.add(Dropout(dropout_rate))\n",
        "\n",
        "    # LSTM layer\n",
        "    model.add(LSTM(num_units_1, kernel_regularizer=l2(l2_reg)))\n",
        "    model.add(BatchNormalization())\n",
        "    model.add(Dropout(dropout_rate))\n",
        "\n",
        "    model.add(Dense(dense_units_1, activation='relu', kernel_regularizer='l2'))\n",
        "    model.add(BatchNormalization())\n",
        "    model.add(Dropout(dropout_rate))\n",
        "\n",
        "    model.add(Dense(1, activation='sigmoid'))\n",
        "\n",
        "    # optimize the learning rate\n",
        "    optimizer = Adam(learning_rate=learning_rate)\n",
        "\n",
        "    model.compile(optimizer=optimizer, loss='binary_crossentropy', metrics=['accuracy'])\n",
        "\n",
        "    return model"
      ],
      "metadata": {
        "id": "GatDnAX6hMto"
      },
      "execution_count": null,
      "outputs": []
    },
    {
      "cell_type": "code",
      "source": [
        "def objective(trial):\n",
        "\n",
        "    \"\"\"\n",
        "    Objective function for Optuna hyperparameter optimization.\n",
        "\n",
        "    This function defines the model's architecture and training parameters for\n",
        "    a CNN-LSTM binary classification task. Using Optuna, it samples hyperparameters\n",
        "    from specified ranges and evaluates model performance on a validation set.\n",
        "\n",
        "    Parameters:\n",
        "    - trial: An Optuna trial object, which suggests values for each hyperparameter\n",
        "      within specified ranges.\n",
        "\n",
        "    Hyperparameters Sampled:\n",
        "    - conv_filters (int): Number of convolutional filters in the 1D convolution layers,\n",
        "      sampled from the range [32, 128] in steps of 16.\n",
        "    - kernel_size (int): Size of the convolution kernel, sampled from [1, min(X_train.shape[1], 5)].\n",
        "    - dense_units_1 (int): Number of units in the first dense layer, sampled from [32, 64] in steps of 16.\n",
        "    - num_units_1 (int): Number of units in the LSTM layer, sampled from [16, 64] in steps of 16.\n",
        "    - dropout_rate (float): Dropout rate for regularization, sampled from a range between 0.3 and 0.5.\n",
        "    - l2_reg (float): L2 regularization factor, sampled logarithmically from [1e-6, 1e-2].\n",
        "    - learning_rate (float): Learning rate for the Adam optimizer, sampled logarithmically\n",
        "      from [1e-5, 1e-2].\n",
        "\n",
        "    Training Configuration:\n",
        "    - Early stopping is used to prevent overfitting, with `patience` set to 10 and\n",
        "      `restore_best_weights` enabled.\n",
        "    - The model is trained for a maximum of 100 epochs with a batch size of 64.\n",
        "    - Class weights (computed externally) are used to handle class imbalance.\n",
        "\n",
        "    Returns:\n",
        "    - f1 (float): The F1 score calculated on the validation set, which is used\n",
        "      by Optuna to determine the best hyperparameter configuration.\n",
        "\n",
        "    \"\"\"\n",
        "\n",
        "    # hyperparameters\n",
        "    conv_filters = trial.suggest_int('conv_filters', 32, 128, step=16)\n",
        "    kernel_size = trial.suggest_int('kernel_size', 1, min(X_train.shape[1], 5))\n",
        "    dense_units_1 = trial.suggest_int('dense_units_1', 32, 64, step=16)\n",
        "    num_units_1 = trial.suggest_int('num_units_1', 16, 64, step=16)\n",
        "    dropout_rate = trial.suggest_float('dropout_rate', 0.3, 0.5)\n",
        "    l2_reg = trial.suggest_loguniform('l2_reg', 1e-6, 1e-2)\n",
        "    learning_rate = trial.suggest_loguniform('learning_rate', 1e-5, 1e-2)\n",
        "\n",
        "    early_stopping = EarlyStopping(monitor='val_loss', patience=10, restore_best_weights=True)\n",
        "\n",
        "    # Create the model\n",
        "    input_shape = (X_train_fft.shape[1], X_train_fft.shape[2])\n",
        "    model = create_cnn_lstm_model(conv_filters, kernel_size, num_units_1, dense_units_1, dropout_rate, input_shape, l2_reg, learning_rate)\n",
        "\n",
        "    # Fit the model\n",
        "    history = model.fit(X_train_fft, y_train_resampled,\n",
        "                        validation_data=(X_valid_fft, y_valid),\n",
        "                        epochs=100,\n",
        "                        batch_size=64,\n",
        "                        class_weight=class_weights_dict,\n",
        "                        verbose=0,\n",
        "                        callbacks=[early_stopping])\n",
        "\n",
        "    predict = model.predict(X_valid_fft)\n",
        "\n",
        "    # Calculate the f1-score\n",
        "    f1 = f1_score(y_valid, np.round(predict))\n",
        "\n",
        "    # Return the f1-score\n",
        "    return f1\n",
        "\n",
        "# Step 1: Create a study object\n",
        "study = optuna.create_study(direction='maximize')\n",
        "# Step 2: Optimize hyperparameters\n",
        "study.optimize(objective, n_trials=30)\n",
        "\n",
        "# Output the best hyperparameters\n",
        "print(\"Best hyperparameters: \", study.best_params)\n",
        "print(\"Best validation f1-score: \", study.best_value)"
      ],
      "metadata": {
        "colab": {
          "base_uri": "https://localhost:8080/"
        },
        "id": "07NCMzPxpDsE",
        "outputId": "80efdb6b-992a-491f-a4c4-177130ab1c02"
      },
      "execution_count": null,
      "outputs": [
        {
          "metadata": {
            "tags": null
          },
          "name": "stderr",
          "output_type": "stream",
          "text": [
            "[I 2024-11-06 12:50:35,524] A new study created in memory with name: no-name-5629b8ae-08c3-4f5e-a389-4904f9c2e141\n"
          ]
        },
        {
          "metadata": {
            "tags": null
          },
          "name": "stdout",
          "output_type": "stream",
          "text": [
            "15/15 [==============================] - 1s 10ms/step\n"
          ]
        },
        {
          "metadata": {
            "tags": null
          },
          "name": "stderr",
          "output_type": "stream",
          "text": [
            "[I 2024-11-06 12:51:43,371] Trial 0 finished with value: 0.7741935483870968 and parameters: {'conv_filters': 80, 'kernel_size': 2, 'dense_units_1': 64, 'num_units_1': 48, 'dropout_rate': 0.3570637187940089, 'l2_reg': 0.00011704061327418417, 'learning_rate': 0.004178587678641758}. Best is trial 0 with value: 0.7741935483870968.\n"
          ]
        },
        {
          "metadata": {
            "tags": null
          },
          "name": "stdout",
          "output_type": "stream",
          "text": [
            "15/15 [==============================] - 1s 8ms/step\n"
          ]
        },
        {
          "metadata": {
            "tags": null
          },
          "name": "stderr",
          "output_type": "stream",
          "text": [
            "[I 2024-11-06 12:53:14,198] Trial 1 finished with value: 0.8559322033898306 and parameters: {'conv_filters': 128, 'kernel_size': 1, 'dense_units_1': 48, 'num_units_1': 16, 'dropout_rate': 0.34148705824503556, 'l2_reg': 0.00041032142905996513, 'learning_rate': 0.00046029250051495555}. Best is trial 1 with value: 0.8559322033898306.\n"
          ]
        },
        {
          "metadata": {
            "tags": null
          },
          "name": "stdout",
          "output_type": "stream",
          "text": [
            "15/15 [==============================] - 1s 9ms/step\n"
          ]
        },
        {
          "metadata": {
            "tags": null
          },
          "name": "stderr",
          "output_type": "stream",
          "text": [
            "[I 2024-11-06 12:54:00,003] Trial 2 finished with value: 0.7439613526570048 and parameters: {'conv_filters': 32, 'kernel_size': 3, 'dense_units_1': 32, 'num_units_1': 64, 'dropout_rate': 0.40744335083256034, 'l2_reg': 0.0068879206132742, 'learning_rate': 0.0017778605792721095}. Best is trial 1 with value: 0.8559322033898306.\n"
          ]
        },
        {
          "metadata": {
            "tags": null
          },
          "name": "stdout",
          "output_type": "stream",
          "text": [
            "15/15 [==============================] - 1s 7ms/step\n"
          ]
        },
        {
          "metadata": {
            "tags": null
          },
          "name": "stderr",
          "output_type": "stream",
          "text": [
            "[I 2024-11-06 12:54:59,490] Trial 3 finished with value: 0.8018018018018018 and parameters: {'conv_filters': 112, 'kernel_size': 1, 'dense_units_1': 48, 'num_units_1': 16, 'dropout_rate': 0.44751114574051354, 'l2_reg': 8.057109664499886e-06, 'learning_rate': 0.0034700922539990797}. Best is trial 1 with value: 0.8559322033898306.\n"
          ]
        },
        {
          "metadata": {
            "tags": null
          },
          "name": "stdout",
          "output_type": "stream",
          "text": [
            "15/15 [==============================] - 1s 8ms/step\n"
          ]
        },
        {
          "metadata": {
            "tags": null
          },
          "name": "stderr",
          "output_type": "stream",
          "text": [
            "[I 2024-11-06 12:55:35,804] Trial 4 finished with value: 0.8407079646017699 and parameters: {'conv_filters': 32, 'kernel_size': 2, 'dense_units_1': 32, 'num_units_1': 48, 'dropout_rate': 0.4004889277988362, 'l2_reg': 5.113236039563217e-06, 'learning_rate': 0.004382328254120766}. Best is trial 1 with value: 0.8559322033898306.\n"
          ]
        },
        {
          "metadata": {
            "tags": null
          },
          "name": "stdout",
          "output_type": "stream",
          "text": [
            "15/15 [==============================] - 1s 8ms/step\n"
          ]
        },
        {
          "metadata": {
            "tags": null
          },
          "name": "stderr",
          "output_type": "stream",
          "text": [
            "[I 2024-11-06 12:56:47,942] Trial 5 finished with value: 0.8053097345132744 and parameters: {'conv_filters': 112, 'kernel_size': 2, 'dense_units_1': 48, 'num_units_1': 32, 'dropout_rate': 0.4089403219119936, 'l2_reg': 0.0001225086813070021, 'learning_rate': 0.0009291679838567135}. Best is trial 1 with value: 0.8559322033898306.\n"
          ]
        },
        {
          "metadata": {
            "tags": null
          },
          "name": "stdout",
          "output_type": "stream",
          "text": [
            "15/15 [==============================] - 1s 10ms/step\n"
          ]
        },
        {
          "metadata": {
            "tags": null
          },
          "name": "stderr",
          "output_type": "stream",
          "text": [
            "[I 2024-11-06 12:59:29,439] Trial 6 finished with value: 0.5698924731182796 and parameters: {'conv_filters': 96, 'kernel_size': 3, 'dense_units_1': 64, 'num_units_1': 64, 'dropout_rate': 0.49219660400238613, 'l2_reg': 0.0002169156703886359, 'learning_rate': 1.5475345146716888e-05}. Best is trial 1 with value: 0.8559322033898306.\n"
          ]
        },
        {
          "metadata": {
            "tags": null
          },
          "name": "stdout",
          "output_type": "stream",
          "text": [
            "15/15 [==============================] - 1s 11ms/step\n"
          ]
        },
        {
          "metadata": {
            "tags": null
          },
          "name": "stderr",
          "output_type": "stream",
          "text": [
            "[I 2024-11-06 13:02:00,557] Trial 7 finished with value: 0.7662835249042146 and parameters: {'conv_filters': 112, 'kernel_size': 2, 'dense_units_1': 64, 'num_units_1': 48, 'dropout_rate': 0.3551508914271199, 'l2_reg': 0.0021775907952670532, 'learning_rate': 0.0001508626228740303}. Best is trial 1 with value: 0.8559322033898306.\n"
          ]
        },
        {
          "metadata": {
            "tags": null
          },
          "name": "stdout",
          "output_type": "stream",
          "text": [
            "15/15 [==============================] - 1s 10ms/step\n"
          ]
        },
        {
          "metadata": {
            "tags": null
          },
          "name": "stderr",
          "output_type": "stream",
          "text": [
            "[I 2024-11-06 13:02:59,644] Trial 8 finished with value: 0.6804123711340206 and parameters: {'conv_filters': 96, 'kernel_size': 4, 'dense_units_1': 48, 'num_units_1': 64, 'dropout_rate': 0.398335190137236, 'l2_reg': 5.76740321284504e-06, 'learning_rate': 0.005689315299999061}. Best is trial 1 with value: 0.8559322033898306.\n"
          ]
        },
        {
          "metadata": {
            "tags": null
          },
          "name": "stdout",
          "output_type": "stream",
          "text": [
            "15/15 [==============================] - 1s 8ms/step\n"
          ]
        },
        {
          "metadata": {
            "tags": null
          },
          "name": "stderr",
          "output_type": "stream",
          "text": [
            "[I 2024-11-06 13:03:38,562] Trial 9 finished with value: 0.7106598984771574 and parameters: {'conv_filters': 64, 'kernel_size': 2, 'dense_units_1': 32, 'num_units_1': 32, 'dropout_rate': 0.39604796533882897, 'l2_reg': 1.068320268453487e-06, 'learning_rate': 0.0021235196869802265}. Best is trial 1 with value: 0.8559322033898306.\n"
          ]
        },
        {
          "metadata": {
            "tags": null
          },
          "name": "stdout",
          "output_type": "stream",
          "text": [
            "15/15 [==============================] - 1s 10ms/step\n"
          ]
        },
        {
          "metadata": {
            "tags": null
          },
          "name": "stderr",
          "output_type": "stream",
          "text": [
            "[I 2024-11-06 13:05:24,831] Trial 10 finished with value: 0.810126582278481 and parameters: {'conv_filters': 128, 'kernel_size': 5, 'dense_units_1': 48, 'num_units_1': 16, 'dropout_rate': 0.30142849064039634, 'l2_reg': 0.0014626022534385272, 'learning_rate': 0.00014921681291921448}. Best is trial 1 with value: 0.8559322033898306.\n"
          ]
        },
        {
          "metadata": {
            "tags": null
          },
          "name": "stdout",
          "output_type": "stream",
          "text": [
            "15/15 [==============================] - 1s 6ms/step\n"
          ]
        },
        {
          "metadata": {
            "tags": null
          },
          "name": "stderr",
          "output_type": "stream",
          "text": [
            "[I 2024-11-06 13:06:28,795] Trial 11 finished with value: 0.8103448275862069 and parameters: {'conv_filters': 32, 'kernel_size': 1, 'dense_units_1': 32, 'num_units_1': 32, 'dropout_rate': 0.31840993633093373, 'l2_reg': 1.812379064804704e-05, 'learning_rate': 0.00048734489228924647}. Best is trial 1 with value: 0.8559322033898306.\n"
          ]
        },
        {
          "metadata": {
            "tags": null
          },
          "name": "stdout",
          "output_type": "stream",
          "text": [
            "15/15 [==============================] - 1s 8ms/step\n"
          ]
        },
        {
          "metadata": {
            "tags": null
          },
          "name": "stderr",
          "output_type": "stream",
          "text": [
            "[I 2024-11-06 13:08:27,590] Trial 12 finished with value: 0.5476190476190477 and parameters: {'conv_filters': 64, 'kernel_size': 1, 'dense_units_1': 32, 'num_units_1': 48, 'dropout_rate': 0.3497839627204242, 'l2_reg': 0.0005253596401950276, 'learning_rate': 3.61221996755128e-05}. Best is trial 1 with value: 0.8559322033898306.\n"
          ]
        },
        {
          "metadata": {
            "tags": null
          },
          "name": "stdout",
          "output_type": "stream",
          "text": [
            "15/15 [==============================] - 1s 8ms/step\n"
          ]
        },
        {
          "metadata": {
            "tags": null
          },
          "name": "stderr",
          "output_type": "stream",
          "text": [
            "[I 2024-11-06 13:09:52,706] Trial 13 finished with value: 0.8245614035087719 and parameters: {'conv_filters': 48, 'kernel_size': 3, 'dense_units_1': 32, 'num_units_1': 16, 'dropout_rate': 0.4379876141249008, 'l2_reg': 2.8464177214189053e-05, 'learning_rate': 0.00029080477241471176}. Best is trial 1 with value: 0.8559322033898306.\n"
          ]
        },
        {
          "metadata": {
            "tags": null
          },
          "name": "stdout",
          "output_type": "stream",
          "text": [
            "15/15 [==============================] - 1s 9ms/step\n"
          ]
        },
        {
          "metadata": {
            "tags": null
          },
          "name": "stderr",
          "output_type": "stream",
          "text": [
            "[I 2024-11-06 13:11:18,397] Trial 14 finished with value: 0.8161434977578476 and parameters: {'conv_filters': 128, 'kernel_size': 1, 'dense_units_1': 48, 'num_units_1': 32, 'dropout_rate': 0.36873616929846814, 'l2_reg': 1.0343664172065708e-06, 'learning_rate': 0.009944754342043862}. Best is trial 1 with value: 0.8559322033898306.\n"
          ]
        },
        {
          "metadata": {
            "tags": null
          },
          "name": "stdout",
          "output_type": "stream",
          "text": [
            "15/15 [==============================] - 1s 8ms/step\n"
          ]
        },
        {
          "metadata": {
            "tags": null
          },
          "name": "stderr",
          "output_type": "stream",
          "text": [
            "[I 2024-11-06 13:12:46,378] Trial 15 finished with value: 0.8516746411483254 and parameters: {'conv_filters': 64, 'kernel_size': 2, 'dense_units_1': 48, 'num_units_1': 48, 'dropout_rate': 0.4410426679687399, 'l2_reg': 3.4659865465884615e-05, 'learning_rate': 0.0008104709208276108}. Best is trial 1 with value: 0.8559322033898306.\n"
          ]
        },
        {
          "metadata": {
            "tags": null
          },
          "name": "stdout",
          "output_type": "stream",
          "text": [
            "15/15 [==============================] - 1s 9ms/step\n"
          ]
        },
        {
          "metadata": {
            "tags": null
          },
          "name": "stderr",
          "output_type": "stream",
          "text": [
            "[I 2024-11-06 13:13:52,487] Trial 16 finished with value: 0.7924528301886793 and parameters: {'conv_filters': 64, 'kernel_size': 4, 'dense_units_1': 48, 'num_units_1': 16, 'dropout_rate': 0.4805478758534401, 'l2_reg': 3.5075873547551506e-05, 'learning_rate': 0.0007577886955612136}. Best is trial 1 with value: 0.8559322033898306.\n"
          ]
        },
        {
          "metadata": {
            "tags": null
          },
          "name": "stdout",
          "output_type": "stream",
          "text": [
            "15/15 [==============================] - 1s 7ms/step\n"
          ]
        },
        {
          "metadata": {
            "tags": null
          },
          "name": "stderr",
          "output_type": "stream",
          "text": [
            "[I 2024-11-06 13:15:48,640] Trial 17 finished with value: 0.736318407960199 and parameters: {'conv_filters': 80, 'kernel_size': 1, 'dense_units_1': 64, 'num_units_1': 32, 'dropout_rate': 0.4513605604036234, 'l2_reg': 0.000461606482392898, 'learning_rate': 7.327101741913402e-05}. Best is trial 1 with value: 0.8559322033898306.\n"
          ]
        },
        {
          "metadata": {
            "tags": null
          },
          "name": "stdout",
          "output_type": "stream",
          "text": [
            "15/15 [==============================] - 1s 10ms/step\n"
          ]
        },
        {
          "metadata": {
            "tags": null
          },
          "name": "stderr",
          "output_type": "stream",
          "text": [
            "[I 2024-11-06 13:17:52,687] Trial 18 finished with value: 0.8045977011494253 and parameters: {'conv_filters': 48, 'kernel_size': 2, 'dense_units_1': 48, 'num_units_1': 48, 'dropout_rate': 0.33095642287699406, 'l2_reg': 4.9951940534342727e-05, 'learning_rate': 0.00022647279890306414}. Best is trial 1 with value: 0.8559322033898306.\n"
          ]
        },
        {
          "metadata": {
            "tags": null
          },
          "name": "stdout",
          "output_type": "stream",
          "text": [
            "15/15 [==============================] - 1s 11ms/step\n"
          ]
        },
        {
          "metadata": {
            "tags": null
          },
          "name": "stderr",
          "output_type": "stream",
          "text": [
            "[I 2024-11-06 13:19:06,745] Trial 19 finished with value: 0.7860262008733624 and parameters: {'conv_filters': 96, 'kernel_size': 4, 'dense_units_1': 48, 'num_units_1': 64, 'dropout_rate': 0.42864750771429017, 'l2_reg': 0.00043848140546207175, 'learning_rate': 0.00108032766775064}. Best is trial 1 with value: 0.8559322033898306.\n"
          ]
        },
        {
          "metadata": {
            "tags": null
          },
          "name": "stdout",
          "output_type": "stream",
          "text": [
            "15/15 [==============================] - 1s 7ms/step\n"
          ]
        },
        {
          "metadata": {
            "tags": null
          },
          "name": "stderr",
          "output_type": "stream",
          "text": [
            "[I 2024-11-06 13:20:14,716] Trial 20 finished with value: 0.7524752475247525 and parameters: {'conv_filters': 48, 'kernel_size': 1, 'dense_units_1': 64, 'num_units_1': 16, 'dropout_rate': 0.47487526452157786, 'l2_reg': 0.0021801605691995803, 'learning_rate': 0.00047168146673784005}. Best is trial 1 with value: 0.8559322033898306.\n"
          ]
        },
        {
          "metadata": {
            "tags": null
          },
          "name": "stdout",
          "output_type": "stream",
          "text": [
            "15/15 [==============================] - 1s 7ms/step\n"
          ]
        },
        {
          "metadata": {
            "tags": null
          },
          "name": "stderr",
          "output_type": "stream",
          "text": [
            "[I 2024-11-06 13:21:03,710] Trial 21 finished with value: 0.7536231884057971 and parameters: {'conv_filters': 32, 'kernel_size': 2, 'dense_units_1': 32, 'num_units_1': 48, 'dropout_rate': 0.3810906125585877, 'l2_reg': 4.984367735985481e-06, 'learning_rate': 0.0018062411652700258}. Best is trial 1 with value: 0.8559322033898306.\n"
          ]
        },
        {
          "metadata": {
            "tags": null
          },
          "name": "stdout",
          "output_type": "stream",
          "text": [
            "15/15 [==============================] - 1s 8ms/step\n"
          ]
        },
        {
          "metadata": {
            "tags": null
          },
          "name": "stderr",
          "output_type": "stream",
          "text": [
            "[I 2024-11-06 13:22:57,432] Trial 22 finished with value: 0.8706896551724138 and parameters: {'conv_filters': 48, 'kernel_size': 3, 'dense_units_1': 48, 'num_units_1': 48, 'dropout_rate': 0.4261798317653229, 'l2_reg': 3.110163911419158e-06, 'learning_rate': 0.0005195254893128255}. Best is trial 22 with value: 0.8706896551724138.\n"
          ]
        },
        {
          "metadata": {
            "tags": null
          },
          "name": "stdout",
          "output_type": "stream",
          "text": [
            "15/15 [==============================] - 1s 10ms/step\n"
          ]
        },
        {
          "metadata": {
            "tags": null
          },
          "name": "stderr",
          "output_type": "stream",
          "text": [
            "[I 2024-11-06 13:24:09,534] Trial 23 finished with value: 0.8154506437768241 and parameters: {'conv_filters': 64, 'kernel_size': 3, 'dense_units_1': 48, 'num_units_1': 48, 'dropout_rate': 0.4258496663593359, 'l2_reg': 2.2396120262692937e-06, 'learning_rate': 0.0005714243210659659}. Best is trial 22 with value: 0.8706896551724138.\n"
          ]
        },
        {
          "output_type": "stream",
          "name": "stdout",
          "text": [
            "15/15 [==============================] - 1s 7ms/step\n"
          ]
        },
        {
          "output_type": "stream",
          "name": "stderr",
          "text": [
            "[I 2024-11-06 13:26:19,269] Trial 24 finished with value: 0.7873303167420814 and parameters: {'conv_filters': 48, 'kernel_size': 3, 'dense_units_1': 48, 'num_units_1': 32, 'dropout_rate': 0.4635275905098789, 'l2_reg': 1.242533012646903e-05, 'learning_rate': 0.00010780396594243285}. Best is trial 22 with value: 0.8706896551724138.\n"
          ]
        },
        {
          "output_type": "stream",
          "name": "stdout",
          "text": [
            "15/15 [==============================] - 1s 10ms/step\n"
          ]
        },
        {
          "output_type": "stream",
          "name": "stderr",
          "text": [
            "[I 2024-11-06 13:28:26,334] Trial 25 finished with value: 0.8256880733944955 and parameters: {'conv_filters': 80, 'kernel_size': 3, 'dense_units_1': 48, 'num_units_1': 48, 'dropout_rate': 0.4204154478108726, 'l2_reg': 6.655823537454774e-05, 'learning_rate': 0.0003199945536092932}. Best is trial 22 with value: 0.8706896551724138.\n"
          ]
        },
        {
          "output_type": "stream",
          "name": "stdout",
          "text": [
            "15/15 [==============================] - 1s 10ms/step\n"
          ]
        },
        {
          "output_type": "stream",
          "name": "stderr",
          "text": [
            "[I 2024-11-06 13:30:19,870] Trial 26 finished with value: 0.8340425531914893 and parameters: {'conv_filters': 80, 'kernel_size': 5, 'dense_units_1': 48, 'num_units_1': 64, 'dropout_rate': 0.3818849062181615, 'l2_reg': 0.00021702579713019, 'learning_rate': 0.0012551314342661014}. Best is trial 22 with value: 0.8706896551724138.\n"
          ]
        },
        {
          "output_type": "stream",
          "name": "stdout",
          "text": [
            "15/15 [==============================] - 1s 10ms/step\n"
          ]
        },
        {
          "output_type": "stream",
          "name": "stderr",
          "text": [
            "[I 2024-11-06 13:31:56,423] Trial 27 finished with value: 0.8207547169811321 and parameters: {'conv_filters': 64, 'kernel_size': 4, 'dense_units_1': 64, 'num_units_1': 32, 'dropout_rate': 0.45142298768991346, 'l2_reg': 2.3235281041056692e-06, 'learning_rate': 0.00028711577711967596}. Best is trial 22 with value: 0.8706896551724138.\n"
          ]
        },
        {
          "output_type": "stream",
          "name": "stdout",
          "text": [
            "15/15 [==============================] - 1s 8ms/step\n"
          ]
        },
        {
          "output_type": "stream",
          "name": "stderr",
          "text": [
            "[I 2024-11-06 13:33:58,152] Trial 28 finished with value: 0.7607843137254902 and parameters: {'conv_filters': 48, 'kernel_size': 2, 'dense_units_1': 48, 'num_units_1': 48, 'dropout_rate': 0.3371389505931751, 'l2_reg': 0.001275140923463232, 'learning_rate': 5.2718587434612014e-05}. Best is trial 22 with value: 0.8706896551724138.\n"
          ]
        },
        {
          "output_type": "stream",
          "name": "stdout",
          "text": [
            "15/15 [==============================] - 1s 9ms/step\n"
          ]
        },
        {
          "output_type": "stream",
          "name": "stderr",
          "text": [
            "[I 2024-11-06 13:34:45,530] Trial 29 finished with value: 0.8202764976958525 and parameters: {'conv_filters': 80, 'kernel_size': 2, 'dense_units_1': 48, 'num_units_1': 48, 'dropout_rate': 0.37934055489738044, 'l2_reg': 0.00011629040694353093, 'learning_rate': 0.0007086106144871539}. Best is trial 22 with value: 0.8706896551724138.\n"
          ]
        },
        {
          "output_type": "stream",
          "name": "stdout",
          "text": [
            "Best hyperparameters:  {'conv_filters': 48, 'kernel_size': 3, 'dense_units_1': 48, 'num_units_1': 48, 'dropout_rate': 0.4261798317653229, 'l2_reg': 3.110163911419158e-06, 'learning_rate': 0.0005195254893128255}\n",
            "Best validation f1-score:  0.8706896551724138\n"
          ]
        }
      ]
    },
    {
      "cell_type": "code",
      "source": [
        "import json\n",
        "\n",
        "# get the best trial from the optuna study\n",
        "best_trial = study.best_trial\n",
        "\n",
        "# extract the best hyperparameters and best f1-score (value)\n",
        "best_params = best_trial.params\n",
        "best_value = best_trial.value\n",
        "\n",
        "# save the best parameters and value to a JSON file\n",
        "with open('best_trial_params.json', 'w') as f:\n",
        "    json.dump({\n",
        "        'best_params': best_params,\n",
        "        'best_value': best_value\n",
        "    }, f)\n",
        "\n",
        "print(\"Best Trial Parameters:\")\n",
        "print(best_params)\n",
        "print(\"Best Trial Value (F1 Score):\", best_value)"
      ],
      "metadata": {
        "id": "nsLVVbC1swk6",
        "colab": {
          "base_uri": "https://localhost:8080/"
        },
        "outputId": "c1c0515e-cf51-4a6c-bbff-e1f8cb0df140"
      },
      "execution_count": null,
      "outputs": [
        {
          "output_type": "stream",
          "name": "stdout",
          "text": [
            "Best Trial Parameters:\n",
            "{'conv_filters': 48, 'kernel_size': 3, 'dense_units_1': 48, 'num_units_1': 48, 'dropout_rate': 0.4261798317653229, 'l2_reg': 3.110163911419158e-06, 'learning_rate': 0.0005195254893128255}\n",
            "Best Trial Value (F1 Score): 0.8706896551724138\n"
          ]
        }
      ]
    },
    {
      "cell_type": "code",
      "source": [
        "# add the \"input_shape\" to the best_params dictionary as it is one of the inputsput for the model\n",
        "best_params['input_shape'] = (X_train_fft.shape[1], X_train_fft.shape[2])"
      ],
      "metadata": {
        "id": "_Y6dVtFur6uc"
      },
      "execution_count": null,
      "outputs": []
    },
    {
      "cell_type": "code",
      "source": [
        "# refit the model with the best parameters obtained from the optuna study with the same model architecture\n",
        "model = create_cnn_lstm_model(**best_params)\n",
        "\n",
        "early_stopping = EarlyStopping(monitor='val_loss', patience=10, restore_best_weights=True)\n",
        "\n",
        "history = model.fit(X_train_fft, y_train_resampled,\n",
        "          validation_data=(X_valid_fft, y_valid),\n",
        "          epochs=100,\n",
        "          batch_size=64,\n",
        "          class_weight=class_weights_dict,\n",
        "          verbose=0,\n",
        "          callbacks=[early_stopping])"
      ],
      "metadata": {
        "id": "EOxxel3li9YZ"
      },
      "execution_count": null,
      "outputs": []
    },
    {
      "cell_type": "code",
      "source": [
        "# evluate the model performance on the validation set\n",
        "valid_predict = model.predict(X_valid_fft) # make predictions on the validation set using the trained model\n",
        "\n",
        "# calculate the f1-score of the validation set\n",
        "f1 = f1_score(y_valid, np.round(valid_predict))\n",
        "print(\"Validation F1-Score: \", f1)\n",
        "\n",
        "# evaluate the model using loss and accuracy metrics on the validation set\n",
        "loss, accuracy = model.evaluate(X_valid_fft, y_valid)\n",
        "\n",
        "# visualize the training and validation loss over epochs to ensure the trained model is not overfitting\n",
        "plt.plot(history.history['loss'], label='Train Loss')\n",
        "plt.plot(history.history['val_loss'], label='Validation Loss')\n",
        "plt.title('Model Loss')\n",
        "plt.ylabel('Loss')\n",
        "plt.xlabel('Epoch')\n",
        "plt.legend()\n",
        "plt.show()"
      ],
      "metadata": {
        "colab": {
          "base_uri": "https://localhost:8080/",
          "height": 523
        },
        "id": "wNqlfQ0bsCk-",
        "outputId": "56af3a96-c63b-456e-89d5-9ffdf9e9418c"
      },
      "execution_count": null,
      "outputs": [
        {
          "output_type": "stream",
          "name": "stdout",
          "text": [
            "15/15 [==============================] - 1s 8ms/step\n",
            "Validation F1-Score:  0.8434782608695652\n",
            "15/15 [==============================] - 0s 8ms/step - loss: 0.2387 - accuracy: 0.9207\n"
          ]
        },
        {
          "output_type": "display_data",
          "data": {
            "text/plain": [
              "<Figure size 640x480 with 1 Axes>"
            ],
            "image/png": "[encoded data removed]"
          },
          "metadata": {}
        }
      ]
    },
    {
      "cell_type": "code",
      "source": [
        "# save the trained model\n",
        "model.save(\"good_result_cnn_lstm_model.h5\")"
      ],
      "metadata": {
        "id": "7g8M8ATgthkd"
      },
      "execution_count": null,
      "outputs": []
    },
    {
      "cell_type": "code",
      "source": [
        "# lastly, evaluate the trained model on the test set\n",
        "test_predict = model.predict(X_test_fft) # make prediction on the test set\n",
        "test_f1 = f1_score(y_test, np.round(test_predict)) # compute the f1-score\n",
        "print(\"Test F1-Score: \", test_f1)"
      ],
      "metadata": {
        "colab": {
          "base_uri": "https://localhost:8080/"
        },
        "id": "2uuHn00-tfiO",
        "outputId": "dc36f59d-4c19-43dc-c820-d2b7ec366abf"
      },
      "execution_count": null,
      "outputs": [
        {
          "output_type": "stream",
          "name": "stdout",
          "text": [
            "15/15 [==============================] - 0s 8ms/step\n",
            "Test F1-Score:  0.8695652173913043\n"
          ]
        }
      ]
    },
    {
      "cell_type": "code",
      "source": [
        "# get predictions from the model\n",
        "test_pred_acc = model.predict(X_test_fft)\n",
        "\n",
        "# convert probabilities to binary predictions\n",
        "test_pred_classes = (test_pred_acc > 0.5).astype(\"int32\")\n",
        "\n",
        "# calculate the accuracy of the test set\n",
        "accuracy = accuracy_score(y_test, test_pred_classes)\n",
        "print(f\"Test Accuracy: {accuracy}\")"
      ],
      "metadata": {
        "colab": {
          "base_uri": "https://localhost:8080/"
        },
        "id": "ICcirUPWt04U",
        "outputId": "ef03207e-2c60-4751-c770-1d3a54124a6c"
      },
      "execution_count": null,
      "outputs": [
        {
          "output_type": "stream",
          "name": "stdout",
          "text": [
            "15/15 [==============================] - 0s 8ms/step\n",
            "Test Accuracy: 0.9340659340659341\n"
          ]
        }
      ]
    },
    {
      "cell_type": "code",
      "source": [
        "# compute the confusion matrix on the test set\n",
        "cm = confusion_matrix(y_test, np.round(test_pred_acc))\n",
        "print(\"Confusion Matrix:\\n\", cm)\n",
        "\n",
        "# visualize the confusion matrix\n",
        "ax= plt.subplot()\n",
        "#fig, ax = plt.subplots(figsize=(8,5))\n",
        "sns.set(font_scale=1.5)\n",
        "sns.heatmap(cm, annot = True, fmt ='g', ax = ax, cmap = sns.cubehelix_palette(as_cmap=True));\n",
        "\n",
        "ax.set_xlabel('Predicted labels');ax.set_ylabel('True labels');\n",
        "ax.set_title('Confusion Matrix');"
      ],
      "metadata": {
        "id": "KVHnAoQvTQjb"
      },
      "execution_count": null,
      "outputs": []
    }
  ]
}